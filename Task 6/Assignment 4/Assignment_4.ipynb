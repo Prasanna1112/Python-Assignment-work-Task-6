{
  "nbformat": 4,
  "nbformat_minor": 0,
  "metadata": {
    "colab": {
      "name": "Assignment 4.ipynb",
      "provenance": []
    },
    "kernelspec": {
      "name": "python3",
      "display_name": "Python 3"
    },
    "language_info": {
      "name": "python"
    }
  },
  "cells": [
    {
      "cell_type": "code",
      "execution_count": 1,
      "metadata": {
        "id": "jJ1ot_5jUv7f"
      },
      "outputs": [],
      "source": [
        "import numpy as np"
      ]
    },
    {
      "cell_type": "markdown",
      "source": [
        "Importing phi and phi_test from train and test datasets"
      ],
      "metadata": {
        "id": "uHR0N-XEbeJv"
      }
    },
    {
      "cell_type": "code",
      "source": [
        "phi = np.loadtxt('data/train.csv', dtype='float', delimiter=',', skiprows=1,\n",
        "                 usecols=tuple(range(1, 14)))\n",
        "\n",
        "phi_test = np.loadtxt('data/test.csv', dtype='float', delimiter=',',\n",
        "                      skiprows=1, usecols=tuple(range(1, 14)))\n"
      ],
      "metadata": {
        "id": "rFqA8WICbLCO"
      },
      "execution_count": 3,
      "outputs": []
    },
    {
      "cell_type": "markdown",
      "source": [
        "Importing y from train data set"
      ],
      "metadata": {
        "id": "WINdwuPJbr-E"
      }
    },
    {
      "cell_type": "code",
      "source": [
        "y = np.loadtxt('data/train.csv', dtype='float', delimiter=',', skiprows=1,\n",
        "               usecols=14, ndmin=2)"
      ],
      "metadata": {
        "id": "I5TLEa0Vbp8s"
      },
      "execution_count": 4,
      "outputs": []
    },
    {
      "cell_type": "markdown",
      "source": [
        "Concatenating coloumn of 1s to right of phi and phi_test"
      ],
      "metadata": {
        "id": "BZuaEJo6cCET"
      }
    },
    {
      "cell_type": "code",
      "source": [
        "phi_test = np.concatenate((phi_test, np.ones((105, 1))), axis=1)\n",
        "\n",
        "phi = np.concatenate((phi, np.ones((400, 1))), axis=1)"
      ],
      "metadata": {
        "id": "o42Jf2HVc4T1"
      },
      "execution_count": 5,
      "outputs": []
    },
    {
      "cell_type": "code",
      "source": [
        "# phi_test.shape\n",
        "# phi.shape"
      ],
      "metadata": {
        "colab": {
          "base_uri": "https://localhost:8080/"
        },
        "id": "ELt_cLkod7D2",
        "outputId": "0e6577ec-f8e1-4ab0-a696-118aa956f1dd"
      },
      "execution_count": 10,
      "outputs": [
        {
          "output_type": "execute_result",
          "data": {
            "text/plain": [
              "(400, 14)"
            ]
          },
          "metadata": {},
          "execution_count": 10
        }
      ]
    },
    {
      "cell_type": "markdown",
      "source": [
        "**Feature Engineering**\n",
        "\n",
        "Min max scaling on each coloumn of phi and phi_test"
      ],
      "metadata": {
        "id": "l1NX9bSbdLJs"
      }
    },
    {
      "cell_type": "code",
      "source": [
        "for x in range(0, 13):\n",
        "    col_max = max(phi[:, x])\n",
        "    col_min = min(phi[:, x])\n",
        "    phi[:, x] = (phi[:, x] - col_min) / (col_max - col_min)\n",
        "    phi_test[:, x] = (phi_test[:, x] - col_min) / (col_max - col_min)"
      ],
      "metadata": {
        "id": "Psy_nzr1dQnX"
      },
      "execution_count": 11,
      "outputs": []
    },
    {
      "cell_type": "markdown",
      "source": [
        "Applying log scaling on y"
      ],
      "metadata": {
        "id": "13DE9xGXexxU"
      }
    },
    {
      "cell_type": "code",
      "source": [
        "y = np.log(y)"
      ],
      "metadata": {
        "id": "XsR4zp4fe2F1"
      },
      "execution_count": 12,
      "outputs": []
    },
    {
      "cell_type": "markdown",
      "source": [
        "Function to calculate change in error function based on phi, w and p norm"
      ],
      "metadata": {
        "id": "YWuOtUMwe6ZZ"
      }
    },
    {
      "cell_type": "code",
      "source": [
        "def delta_w(p, phi, w):\n",
        "    if p == 2:\n",
        "        deltaw = (2 * (np.dot(np.dot(np.transpose(phi), phi), w) -\n",
        "                       np.dot(np.transpose(phi), y)) +\n",
        "                  lamb * p * np.power(np.absolute(w), (p - 1)))\n",
        "    if p < 2 and p > 1:\n",
        "        deltaw = (2 * (np.dot(np.dot(np.transpose(phi), phi), w) -\n",
        "                       np.dot(np.transpose(phi), y)) +\n",
        "                  lamb * p * np.power(np.absolute(w), (p - 1)) * np.sign(w))\n",
        "    return deltaw"
      ],
      "metadata": {
        "id": "ciUByjFYe_7l"
      },
      "execution_count": 16,
      "outputs": []
    },
    {
      "cell_type": "markdown",
      "source": [
        "Dictionary containing filenames as keys and p as values\n"
      ],
      "metadata": {
        "id": "wYl0x52Kh78Q"
      }
    },
    {
      "cell_type": "code",
      "source": [
        "file_names = {'output.csv': 2.0,\n",
        "             'output_p1.csv': 1.75,\n",
        "             'output_p2.csv': 1.5,\n",
        "             'output_p3.csv': 1.3\n",
        "             }"
      ],
      "metadata": {
        "id": "9DF8a41nh_Zu"
      },
      "execution_count": 14,
      "outputs": []
    },
    {
      "cell_type": "markdown",
      "source": [
        "**For each item in this dictionary**"
      ],
      "metadata": {
        "id": "fYfrw8DUiHv9"
      }
    },
    {
      "cell_type": "code",
      "source": [
        "for (fname, p) in file_names.items():\n",
        "\n",
        "    # Set initial w to zeros\n",
        "    w = np.zeros((14, 1))\n",
        "\n",
        "    # Hyperparameter lambda value (trail and error)\n",
        "    lambd = 0.2\n",
        "\n",
        "    # Maximum step size\n",
        "    t = 0.00012\n",
        "\n",
        "    # Calculate new value of w\n",
        "    w_new = w - t * delta_w(p, phi, w)\n",
        "\n",
        "    i = 0\n",
        "\n",
        "    # Repeat steps until error between consecutive w is less than threshold\n",
        "    while(np.linalg.norm(w_new-w) > 10 ** -10):\n",
        "        w = w_new\n",
        "        w_new = w - t * delta_w(p, phi, w)\n",
        "        i = i + 1\n",
        "\n",
        "    # Load values of id from the data file\n",
        "    id_test = np.loadtxt('data/test.csv', dtype='int', delimiter=',',\n",
        "                         skiprows=1, usecols=0, ndmin=2)\n",
        "\n",
        "    # Calculate y for test data using phi test and applying inverse log\n",
        "    y_test = np.exp(np.dot(phi_test, w_new))\n",
        "\n",
        "    # Save the ids and y according to filename from dictionary\n",
        "    np.savetxt(fname, np.concatenate((id_test, y_test), axis=1),\n",
        "               delimiter=',', fmt=['%d', '%f'], header='ID,MEDV', comments='')"
      ],
      "metadata": {
        "id": "3t2ULoI8j5hu"
      },
      "execution_count": 19,
      "outputs": []
    }
  ]
}